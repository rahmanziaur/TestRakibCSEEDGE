{
 "cells": [
  {
   "cell_type": "code",
   "execution_count": 1,
   "id": "c4d073e1-e264-4f87-8e8c-82a43157e3a1",
   "metadata": {},
   "outputs": [],
   "source": [
    "def SubtractTwo(a = 0, b= 0):\n",
    "    c = a - b\n",
    "    return c"
   ]
  },
  {
   "cell_type": "code",
   "execution_count": 2,
   "id": "51a65c11-9300-452c-8371-bbccb45590f1",
   "metadata": {},
   "outputs": [
    {
     "name": "stdin",
     "output_type": "stream",
     "text": [
      "Enter a: 23\n",
      "Enter b: 4\n"
     ]
    }
   ],
   "source": [
    "a = int(input(\"Enter a:\"))\n",
    "b = int(input(\"Enter b:\"))"
   ]
  },
  {
   "cell_type": "code",
   "execution_count": 4,
   "id": "040c37b3-f88a-46ff-b519-4ddef0f7b87f",
   "metadata": {},
   "outputs": [
    {
     "name": "stdout",
     "output_type": "stream",
     "text": [
      "23  -  4  =  19\n"
     ]
    }
   ],
   "source": [
    "print(a,\" - \",b,\" = \", SubtractTwo(a, b))"
   ]
  }
 ],
 "metadata": {
  "kernelspec": {
   "display_name": "Python 3 (ipykernel)",
   "language": "python",
   "name": "python3"
  },
  "language_info": {
   "codemirror_mode": {
    "name": "ipython",
    "version": 3
   },
   "file_extension": ".py",
   "mimetype": "text/x-python",
   "name": "python",
   "nbconvert_exporter": "python",
   "pygments_lexer": "ipython3",
   "version": "3.13.1"
  }
 },
 "nbformat": 4,
 "nbformat_minor": 5
}
